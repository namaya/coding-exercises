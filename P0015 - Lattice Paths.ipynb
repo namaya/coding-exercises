{
 "cells": [
  {
   "cell_type": "code",
   "execution_count": 36,
   "metadata": {},
   "outputs": [
    {
     "name": "stdout",
     "output_type": "stream",
     "text": [
      "137846528820\n"
     ]
    }
   ],
   "source": [
    "N = 20\n",
    "\n",
    "grid = [[0 if i < N else 1 for i in range(N+1)] if j < N else [1 for _ in range(N+1)] for j in range(N+1)]\n",
    "\n",
    "i, j = N-1, N-1\n",
    "\n",
    "while i >= 0:\n",
    "    while j >= 0:\n",
    "        grid[i][j] = grid[i+1][j] + grid[i][j+1]\n",
    "        j -= 1\n",
    "    j = N-1\n",
    "    i -= 1\n",
    "    \n",
    "print(grid[0][0])"
   ]
  },
  {
   "cell_type": "code",
   "execution_count": null,
   "metadata": {},
   "outputs": [],
   "source": []
  }
 ],
 "metadata": {
  "kernelspec": {
   "display_name": "Python 3",
   "language": "python",
   "name": "python3"
  },
  "language_info": {
   "codemirror_mode": {
    "name": "ipython",
    "version": 3
   },
   "file_extension": ".py",
   "mimetype": "text/x-python",
   "name": "python",
   "nbconvert_exporter": "python",
   "pygments_lexer": "ipython3",
   "version": "3.7.2"
  }
 },
 "nbformat": 4,
 "nbformat_minor": 2
}
