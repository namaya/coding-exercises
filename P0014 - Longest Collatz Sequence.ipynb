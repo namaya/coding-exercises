{
 "cells": [
  {
   "cell_type": "code",
   "execution_count": 13,
   "metadata": {},
   "outputs": [
    {
     "name": "stdout",
     "output_type": "stream",
     "text": [
      "837799\n"
     ]
    }
   ],
   "source": [
    "N = int(1e6)\n",
    "\n",
    "def collatz_length(i, memo=None):\n",
    "    if not memo:\n",
    "        memo = {1:1}\n",
    "        \n",
    "    return collatz_length_helper(i, memo)\n",
    "    \n",
    "def collatz_length_helper(i, memo):\n",
    "    if i in memo:\n",
    "        return memo[i]\n",
    "    elif i % 2 == 0:\n",
    "        length = 1 + collatz_length_helper(i//2, memo)\n",
    "    else:\n",
    "        length = 1 + collatz_length_helper(3*i + 1, memo)\n",
    "    memo[i] = length\n",
    "    return length\n",
    "    \n",
    "memo = {1:1}\n",
    "    \n",
    "max_length, max_num = 0, -1\n",
    "for i in range(1, N):\n",
    "    length = collatz_length(i, memo)\n",
    "    if length > max_length:\n",
    "        max_length = length\n",
    "        max_num = i\n",
    "\n",
    "print(max_num)"
   ]
  }
 ],
 "metadata": {
  "kernelspec": {
   "display_name": "Python 3",
   "language": "python",
   "name": "python3"
  },
  "language_info": {
   "codemirror_mode": {
    "name": "ipython",
    "version": 3
   },
   "file_extension": ".py",
   "mimetype": "text/x-python",
   "name": "python",
   "nbconvert_exporter": "python",
   "pygments_lexer": "ipython3",
   "version": "3.7.2"
  }
 },
 "nbformat": 4,
 "nbformat_minor": 2
}
