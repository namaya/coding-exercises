{
 "cells": [
  {
   "cell_type": "code",
   "execution_count": 4,
   "metadata": {},
   "outputs": [
    {
     "name": "stdout",
     "output_type": "stream",
     "text": [
      "25164150\n"
     ]
    }
   ],
   "source": [
    "def sum_of_squares(max_num):\n",
    "    sum_ = 0\n",
    "    for i in range(1, max_num + 1):\n",
    "        sum_ += i**2\n",
    "    return sum_\n",
    "\n",
    "def square_of_sums(max_num):\n",
    "    return sum([i for i in range(1, max_num + 1)]) ** 2\n",
    "\n",
    "max_num = 100\n",
    "\n",
    "difference = square_of_sums(max_num) - sum_of_squares(max_num)\n",
    "\n",
    "print(difference)"
   ]
  }
 ],
 "metadata": {
  "kernelspec": {
   "display_name": "Python 3",
   "language": "python",
   "name": "python3"
  },
  "language_info": {
   "codemirror_mode": {
    "name": "ipython",
    "version": 3
   },
   "file_extension": ".py",
   "mimetype": "text/x-python",
   "name": "python",
   "nbconvert_exporter": "python",
   "pygments_lexer": "ipython3",
   "version": "3.7.2"
  }
 },
 "nbformat": 4,
 "nbformat_minor": 2
}
