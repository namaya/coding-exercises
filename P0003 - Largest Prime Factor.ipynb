{
 "cells": [
  {
   "cell_type": "code",
   "execution_count": 7,
   "metadata": {},
   "outputs": [
    {
     "name": "stdout",
     "output_type": "stream",
     "text": [
      "6857\n"
     ]
    }
   ],
   "source": [
    "def is_factor(N, n):\n",
    "    if N % n == 0:\n",
    "        return N // n\n",
    "    else:\n",
    "        return -1\n",
    "\n",
    "def is_prime(n):\n",
    "    for i in range(2, n):\n",
    "        if n % i == 0:\n",
    "            return False   \n",
    "    return True\n",
    "\n",
    "N = 600851475143\n",
    "\n",
    "largest_prime_factor = 0\n",
    "\n",
    "for n in range(2, int(N**(1/2)) + 1):\n",
    "    i = is_factor(N, n)\n",
    "    if i != -1:\n",
    "        if is_prime(i) and i > largest_prime_factor:\n",
    "            largest_prime_factor = i\n",
    "        elif is_prime(n) and n > largest_prime_factor:\n",
    "            largest_prime_factor = n\n",
    "        \n",
    "print(largest_prime_factor)"
   ]
  }
 ],
 "metadata": {
  "kernelspec": {
   "display_name": "Python 3",
   "language": "python",
   "name": "python3"
  },
  "language_info": {
   "codemirror_mode": {
    "name": "ipython",
    "version": 3
   },
   "file_extension": ".py",
   "mimetype": "text/x-python",
   "name": "python",
   "nbconvert_exporter": "python",
   "pygments_lexer": "ipython3",
   "version": "3.7.2"
  }
 },
 "nbformat": 4,
 "nbformat_minor": 2
}
