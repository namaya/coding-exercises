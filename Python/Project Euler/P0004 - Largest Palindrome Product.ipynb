{
 "cells": [
  {
   "cell_type": "code",
   "execution_count": 3,
   "metadata": {},
   "outputs": [
    {
     "name": "stdout",
     "output_type": "stream",
     "text": [
      "906609\n"
     ]
    }
   ],
   "source": [
    "def is_palindrome(n):\n",
    "    num_str = str(n)\n",
    "    \n",
    "    i = 0\n",
    "    j = len(num_str) - 1\n",
    "    \n",
    "    while i < j:\n",
    "        if num_str[i] != num_str[j]:\n",
    "            return False\n",
    "        i += 1; j -= 1\n",
    "        \n",
    "    return True\n",
    "\n",
    "num_digits = 3\n",
    "\n",
    "largest_palindrome = 0\n",
    "\n",
    "for i in range(10**num_digits):\n",
    "    for j in range(10**num_digits):\n",
    "        product = i*j\n",
    "        if is_palindrome(product) and product > largest_palindrome:\n",
    "            largest_palindrome = product\n",
    "            \n",
    "print(largest_palindrome)"
   ]
  }
 ],
 "metadata": {
  "kernelspec": {
   "display_name": "Python 3",
   "language": "python",
   "name": "python3"
  },
  "language_info": {
   "codemirror_mode": {
    "name": "ipython",
    "version": 3
   },
   "file_extension": ".py",
   "mimetype": "text/x-python",
   "name": "python",
   "nbconvert_exporter": "python",
   "pygments_lexer": "ipython3",
   "version": "3.7.2"
  }
 },
 "nbformat": 4,
 "nbformat_minor": 2
}
