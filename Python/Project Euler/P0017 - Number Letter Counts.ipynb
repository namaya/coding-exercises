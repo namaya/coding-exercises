{
 "cells": [
  {
   "cell_type": "code",
   "execution_count": 38,
   "metadata": {},
   "outputs": [
    {
     "data": {
      "text/plain": [
       "21124"
      ]
     },
     "execution_count": 38,
     "metadata": {},
     "output_type": "execute_result"
    }
   ],
   "source": [
    "first_digit = ['', 'one', 'two', 'three', 'four', 'five', 'six', 'seven', 'eight', 'nine']\n",
    "tens = ['ten', 'eleven', 'twelve', 'thirteen', 'fourteen', 'fifteen', 'sixteen', 'seventeen', 'eighteen', 'nineteen']\n",
    "second_digit = ['', '', 'twenty', 'thirty', 'forty', 'fifty', 'sixty', 'seventy', 'eighty', 'ninety']\n",
    "\n",
    "def to_words(n):\n",
    "    n = str(n)\n",
    "    num_digits = len(n)\n",
    "    \n",
    "    words = []\n",
    "    for i in range(num_digits):\n",
    "        if num_digits == 4:\n",
    "            words.append(first_digit[int(n[i])])\n",
    "            words.append('thousand')\n",
    "            break\n",
    "        elif num_digits == 3:\n",
    "            words.append(first_digit[int(n[i])])\n",
    "            words.append('hundred')\n",
    "            if n[i+1] != '0' or n[i+2] != '0':\n",
    "                words.append('and')\n",
    "        elif num_digits == 2:\n",
    "            if n[i] == '0':\n",
    "                words.append(first_digit[int(n[i+1])])\n",
    "            elif n[i] == '1':\n",
    "                words.append(tens[int(n[i+1])])\n",
    "            else:\n",
    "                words.append(second_digit[int(n[i])])\n",
    "                words.append(first_digit[int(n[i+1])])\n",
    "            break\n",
    "        else:\n",
    "            words.append(first_digit[int(n[i])])\n",
    "        num_digits -= 1\n",
    "        \n",
    "    return words\n",
    "    \n",
    "\n",
    "N = 1000\n",
    "\n",
    "nums = []\n",
    "for i in range(1, N+1):\n",
    "    nums.append(to_words(i))\n",
    "    \n",
    "lengths = list(map(lambda x: len(''.join(x)), nums))\n",
    "\n",
    "sum(lengths)"
   ]
  },
  {
   "cell_type": "code",
   "execution_count": null,
   "metadata": {},
   "outputs": [],
   "source": []
  }
 ],
 "metadata": {
  "kernelspec": {
   "display_name": "Python 3",
   "language": "python",
   "name": "python3"
  },
  "language_info": {
   "codemirror_mode": {
    "name": "ipython",
    "version": 3
   },
   "file_extension": ".py",
   "mimetype": "text/x-python",
   "name": "python",
   "nbconvert_exporter": "python",
   "pygments_lexer": "ipython3",
   "version": "3.7.2"
  }
 },
 "nbformat": 4,
 "nbformat_minor": 2
}
