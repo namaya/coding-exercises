{
 "cells": [
  {
   "cell_type": "code",
   "execution_count": 8,
   "metadata": {},
   "outputs": [
    {
     "data": {
      "text/plain": [
       "648"
      ]
     },
     "execution_count": 8,
     "metadata": {},
     "output_type": "execute_result"
    }
   ],
   "source": [
    "def multiply(x, y):\n",
    "    x, y = __format(x, y)\n",
    "    \n",
    "    nums = []\n",
    "    for j in range(len(y)):\n",
    "        nums.append(['0' for _ in range(j)])\n",
    "        carry = '0'\n",
    "        for i in range(len(x)):\n",
    "            result, carry = __unit_multiply(x[i], y[j], carry)\n",
    "            nums[j].append(result)\n",
    "        if carry != '0':\n",
    "            nums[j].append(carry)\n",
    "    \n",
    "    nums = list(map(lambda x: __reverse(''.join(x)), nums))\n",
    "    \n",
    "    return add_all(nums)\n",
    "        \n",
    "def __format(x, y):\n",
    "    small, large = (x, y) if len(x) < len(y) else (y, x)\n",
    "    return __reverse(large), __reverse(small)\n",
    "\n",
    "def __reverse(a):\n",
    "    return ''.join(reversed(a))\n",
    "\n",
    "def __unit_multiply(x, y, carry='0'):\n",
    "    result = str(int(x)*int(y) + int(carry))\n",
    "    if len(result) == 2:\n",
    "        return result[1], result[0]\n",
    "    else:\n",
    "        return result, '0'\n",
    "    \n",
    "def add(a, b):\n",
    "    a, b = __prepend_zeros(a, b)\n",
    "            \n",
    "    accumulator, carry = [], '0'\n",
    "    \n",
    "    for i in range(len(a)-1, -1, -1):\n",
    "        temp, carry = __digit_adder(a[i], b[i], carry) \n",
    "        accumulator.append(temp)\n",
    "                \n",
    "    if accumulator[-1] == '0':\n",
    "        return ''.join(reversed(accumulator[:-1]))\n",
    "    \n",
    "    return ''.join(reversed(accumulator))\n",
    "\n",
    "def __prepend_zeros(a, b):\n",
    "    small, large = (a, b) if len(a) < len(b) else (b, a)\n",
    "    a = '0' + large\n",
    "    zeros = ''.join(['0' for _ in range(len(large) - len(small) + 1)])\n",
    "    b = zeros + small\n",
    "    \n",
    "    return a, b\n",
    "\n",
    "\n",
    "def __digit_adder(a, b, carry='0'):\n",
    "    temp = str(int(a) + int(b) + int(carry))\n",
    "    if len(temp) == 2:\n",
    "        c, carry = temp[1], temp[0]\n",
    "    else:\n",
    "        c, carry = temp[0], '0'\n",
    "    return c, carry\n",
    "\n",
    "def add_all(numbers):\n",
    "    total = '0'\n",
    "    for i in range(len(numbers)):\n",
    "        total = add(total, numbers[i])\n",
    "    return total\n",
    "\n",
    "N = 100\n",
    "\n",
    "total = '1'\n",
    "for i in range(2, N+1):\n",
    "    total = multiply(total, str(i))\n",
    "    \n",
    "sum(map(lambda x: int(x), list(total)))"
   ]
  }
 ],
 "metadata": {
  "kernelspec": {
   "display_name": "Python 3",
   "language": "python",
   "name": "python3"
  },
  "language_info": {
   "codemirror_mode": {
    "name": "ipython",
    "version": 3
   },
   "file_extension": ".py",
   "mimetype": "text/x-python",
   "name": "python",
   "nbconvert_exporter": "python",
   "pygments_lexer": "ipython3",
   "version": "3.7.2"
  }
 },
 "nbformat": 4,
 "nbformat_minor": 2
}
