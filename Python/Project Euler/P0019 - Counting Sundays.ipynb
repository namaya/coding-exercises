{
 "cells": [
  {
   "cell_type": "code",
   "execution_count": 33,
   "metadata": {},
   "outputs": [
    {
     "data": {
      "text/plain": [
       "171"
      ]
     },
     "execution_count": 33,
     "metadata": {},
     "output_type": "execute_result"
    }
   ],
   "source": [
    "days_of_month = [31, 0, 31, 30, 31, 30, 31, 31, 30, 31, 30, 31]\n",
    "\n",
    "N = 100\n",
    "start_year = 1901\n",
    "date = (1 + 365) % 7\n",
    "num_sundays = 0\n",
    "\n",
    "for year in range(1901, 2001):\n",
    "    # year 2000 is divisible by 400 so we don't need the century check\n",
    "    days_of_month[1] = 29 if year % 4 == 0 else 28\n",
    "    for month in range(12):\n",
    "        if date % 7 == 0:\n",
    "            num_sundays += 1\n",
    "        date += days_of_month[month]\n",
    "\n",
    "num_sundays"
   ]
  }
 ],
 "metadata": {
  "kernelspec": {
   "display_name": "Python 3",
   "language": "python",
   "name": "python3"
  },
  "language_info": {
   "codemirror_mode": {
    "name": "ipython",
    "version": 3
   },
   "file_extension": ".py",
   "mimetype": "text/x-python",
   "name": "python",
   "nbconvert_exporter": "python",
   "pygments_lexer": "ipython3",
   "version": "3.7.2"
  }
 },
 "nbformat": 4,
 "nbformat_minor": 2
}
