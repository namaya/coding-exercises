{
 "metadata": {
  "language_info": {
   "codemirror_mode": {
    "name": "ipython",
    "version": 3
   },
   "file_extension": ".py",
   "mimetype": "text/x-python",
   "name": "python",
   "nbconvert_exporter": "python",
   "pygments_lexer": "ipython3",
   "version": "3.7.4"
  },
  "orig_nbformat": 2,
  "kernelspec": {
   "name": "python3",
   "display_name": "Python 3.7.4 64-bit ('jupyter': conda)",
   "metadata": {
    "interpreter": {
     "hash": "c32c7db62676ca097da34099e890a972c5293367a8c712a90913b630688a0fdb"
    }
   }
  }
 },
 "nbformat": 4,
 "nbformat_minor": 2,
 "cells": [
  {
   "cell_type": "code",
   "execution_count": 9,
   "metadata": {},
   "outputs": [
    {
     "output_type": "stream",
     "name": "stdout",
     "text": [
      "products: {5346, 5796, 6952, 7852, 4396, 7632, 7254}\n"
     ]
    },
    {
     "output_type": "execute_result",
     "data": {
      "text/plain": [
       "45228"
      ]
     },
     "metadata": {},
     "execution_count": 9
    }
   ],
   "source": [
    "\n",
    "def num_digits(n: int):\n",
    "    return len(str(n))\n",
    "\n",
    "def is_pandigital(m, n, p, num_digits=9):\n",
    "\n",
    "    all_t = str(m) + str(n) + str(p)\n",
    "\n",
    "    if len(all_t) != num_digits:\n",
    "        return False\n",
    "\n",
    "    seen = set()\n",
    "\n",
    "    for n in all_t:\n",
    "        if n in seen or int(n) == 0:\n",
    "            return False\n",
    "        else:\n",
    "            seen.add(n)\n",
    "        \n",
    "    return True\n",
    "\n",
    "\n",
    "def pandigital_products():\n",
    "    pprods = set()\n",
    "\n",
    "    mpc_nd = 4\n",
    "    mpl_nd = 1\n",
    "\n",
    "    while mpc_nd >= 3:\n",
    "        mpc = 10 ** (mpc_nd - 1)\n",
    "        while mpc < 10 ** mpc_nd:\n",
    "            mpl = 10 ** (mpl_nd - 1)\n",
    "            while mpl < 10 ** mpl_nd:\n",
    "                prod = mpc * mpl\n",
    "\n",
    "                trio = (mpc, mpl, prod)\n",
    "\n",
    "                if is_pandigital(*trio):\n",
    "                    pprods.add(trio[2])\n",
    "\n",
    "                mpl += 1\n",
    "            mpc += 1\n",
    "\n",
    "        mpc_nd -= 1\n",
    "        mpl_nd += 1\n",
    "\n",
    "    print(f\"products: {pprods}\")\n",
    "    \n",
    "    return sum(pprods)\n",
    "\n",
    "pandigital_products()"
   ]
  }
 ]
}