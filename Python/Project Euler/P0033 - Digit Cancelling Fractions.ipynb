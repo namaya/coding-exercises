{
 "metadata": {
  "language_info": {
   "codemirror_mode": {
    "name": "ipython",
    "version": 3
   },
   "file_extension": ".py",
   "mimetype": "text/x-python",
   "name": "python",
   "nbconvert_exporter": "python",
   "pygments_lexer": "ipython3",
   "version": "3.7.4"
  },
  "orig_nbformat": 2,
  "kernelspec": {
   "name": "python3",
   "display_name": "Python 3.7.4 64-bit ('jupyter': conda)",
   "metadata": {
    "interpreter": {
     "hash": "c32c7db62676ca097da34099e890a972c5293367a8c712a90913b630688a0fdb"
    }
   }
  }
 },
 "nbformat": 4,
 "nbformat_minor": 2,
 "cells": [
  {
   "source": [
    "# 33. Digit Cancelling Fractions"
   ],
   "cell_type": "markdown",
   "metadata": {}
  },
  {
   "cell_type": "code",
   "execution_count": 28,
   "metadata": {},
   "outputs": [
    {
     "output_type": "execute_result",
     "data": {
      "text/plain": [
       "True"
      ]
     },
     "metadata": {},
     "execution_count": 28
    }
   ],
   "source": [
    "def gcd(x, y):\n",
    "    if x > y:\n",
    "        a = x\n",
    "        b = y\n",
    "    else:\n",
    "        a = y\n",
    "        b = x\n",
    "\n",
    "    R = a % b\n",
    "\n",
    "    while R != 0:\n",
    "        a = b\n",
    "        b = R\n",
    "\n",
    "        R = a % b\n",
    "    \n",
    "    return b\n",
    "\n",
    "\n",
    "\n",
    "\n",
    "class Fraction:\n",
    "    def __init__(self, num, den):\n",
    "        self._num = num\n",
    "        self._den = den\n",
    "\n",
    "    @property\n",
    "    def num(self):\n",
    "        return self._num\n",
    "    \n",
    "    @property\n",
    "    def den(self):\n",
    "        return self._den\n",
    "    \n",
    "    def simplify(self):\n",
    "        gcd_ = gcd(self._num, self._den)\n",
    "\n",
    "        return Fraction(self._num // gcd_, self._den // gcd_)\n",
    "\n",
    "    def is_dcf(self):\n",
    "        num_str = str(self._num)\n",
    "        den_str = str(self._den)\n",
    "\n",
    "        for i in range(len(num_str)):\n",
    "            for j in range(len(den_str)):\n",
    "                if num_str[i] == den_str[j] and num_str[i] != 0:\n",
    "                    ccld_num = int(num_str[:i] + num_str[i+1:])\n",
    "                    ccld_den = int(den_str[:j] + den_str[j+1:])\n",
    "\n",
    "                    ccld_frac = Fraction(ccld_num, ccld_den)\n",
    "\n",
    "                    if ccld_frac == self:\n",
    "                        return True\n",
    "\n",
    "        return False\n",
    "\n",
    "\n",
    "    def __eq__(self, other):\n",
    "        if other is None or not isinstance(other, Fraction):\n",
    "            return False\n",
    "\n",
    "        a = other.simplify()\n",
    "        b = self.simplify()\n",
    "        \n",
    "        return a.num == b.num and a.den == b.den\n",
    "\n",
    "    \n",
    "    def __str__(self):\n",
    "        return f\"{self._num}/{self._den}\"\n",
    "\n",
    "    def __repr__(self):\n",
    "        return self.__str__()\n",
    "\n",
    "def digit_cancelling_fractions():\n",
    "    dcfs = []\n",
    "\n",
    "    for num in range(10, 100):\n",
    "        for den in range(num+1, 100):\n",
    "            frac = Fraction(num, den)\n",
    "\n",
    "            if frac.is_dcf():\n",
    "                dcfs.append(frac)\n",
    "\n",
    "    return dcfs\n",
    "\n",
    "frac = Fraction(30, 50)\n",
    "\n",
    "frac.is_dcf()"
   ]
  },
  {
   "cell_type": "code",
   "execution_count": null,
   "metadata": {},
   "outputs": [],
   "source": []
  }
 ]
}