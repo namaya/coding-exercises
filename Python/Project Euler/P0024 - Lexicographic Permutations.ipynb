{
 "cells": [
  {
   "cell_type": "code",
   "execution_count": 11,
   "metadata": {},
   "outputs": [
    {
     "data": {
      "text/plain": [
       "'2783915460'"
      ]
     },
     "execution_count": 11,
     "metadata": {},
     "output_type": "execute_result"
    }
   ],
   "source": [
    "from itertools import permutations\n",
    "\n",
    "perms = permutations([0, 1, 2, 3, 4, 5, 6, 7, 8, 9])\n",
    "\n",
    "N = int(1e6)\n",
    "\n",
    "i = 1\n",
    "answer = 0\n",
    "\n",
    "for perm in perms:\n",
    "    if i == N:\n",
    "        answer = perm\n",
    "        break\n",
    "    i += 1\n",
    "    \n",
    "answer = map(lambda x: str(x), answer)\n",
    "\n",
    "''.join(answer)"
   ]
  }
 ],
 "metadata": {
  "kernelspec": {
   "display_name": "Python 3",
   "language": "python",
   "name": "python3"
  },
  "language_info": {
   "codemirror_mode": {
    "name": "ipython",
    "version": 3
   },
   "file_extension": ".py",
   "mimetype": "text/x-python",
   "name": "python",
   "nbconvert_exporter": "python",
   "pygments_lexer": "ipython3",
   "version": "3.7.2"
  }
 },
 "nbformat": 4,
 "nbformat_minor": 2
}
