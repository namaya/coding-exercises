{
 "cells": [
  {
   "cell_type": "code",
   "execution_count": 22,
   "metadata": {},
   "outputs": [
    {
     "name": "stdout",
     "output_type": "stream",
     "text": [
      "1074\n"
     ]
    }
   ],
   "source": [
    "triangle = '''75\n",
    "95 64\n",
    "17 47 82\n",
    "18 35 87 10\n",
    "20 04 82 47 65\n",
    "19 01 23 75 03 34\n",
    "88 02 77 73 07 63 67\n",
    "99 65 04 28 06 16 70 92\n",
    "41 41 26 56 83 40 80 70 33\n",
    "41 48 72 33 47 32 37 16 94 29\n",
    "53 71 44 65 25 43 91 52 97 51 14\n",
    "70 11 33 28 77 73 17 78 39 68 17 57\n",
    "91 71 52 38 17 14 91 43 58 50 27 29 48\n",
    "63 66 04 68 89 53 67 30 73 16 69 87 40 31\n",
    "04 62 98 27 23 09 70 98 73 93 38 53 60 04 23'''\n",
    "\n",
    "# triangle = '''3\n",
    "# 7 4\n",
    "# 2 4 6\n",
    "# 8 5 9 3'''\n",
    "\n",
    "triangle = triangle.split('\\n')\n",
    "triangle = map(lambda x: x.split(' '), triangle)\n",
    "triangle = list(map(lambda x: list(map(lambda y: int(y), x)), triangle))\n",
    "\n",
    "max_total = [[0 for _ in range(len(triangle[j]))] for j in range(len(triangle))]\n",
    "max_total[-1] = triangle[-1]\n",
    "\n",
    "for i in range(len(triangle)-2, -1, -1):\n",
    "    for j in range(len(triangle[i])):\n",
    "        max_total[i][j] = triangle[i][j] + max(max_total[i+1][j], max_total[i+1][j+1])\n",
    "\n",
    "print(max_total[0][0])"
   ]
  }
 ],
 "metadata": {
  "kernelspec": {
   "display_name": "Python 3",
   "language": "python",
   "name": "python3"
  },
  "language_info": {
   "codemirror_mode": {
    "name": "ipython",
    "version": 3
   },
   "file_extension": ".py",
   "mimetype": "text/x-python",
   "name": "python",
   "nbconvert_exporter": "python",
   "pygments_lexer": "ipython3",
   "version": "3.7.2"
  }
 },
 "nbformat": 4,
 "nbformat_minor": 2
}
