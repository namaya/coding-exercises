{
 "cells": [
  {
   "cell_type": "code",
   "execution_count": 11,
   "metadata": {},
   "outputs": [
    {
     "name": "stdout",
     "output_type": "stream",
     "text": [
      "76576500\n"
     ]
    }
   ],
   "source": [
    "def find_num_divisors(n):\n",
    "    num_divisors = 0\n",
    "    for i in range(1, int(n**(1/2) + 1)):\n",
    "        if n % i == 0:\n",
    "            j = n // i\n",
    "            num_divisors = num_divisors + 2 if i != j else num_divisors + 1\n",
    "    return num_divisors\n",
    "            \n",
    "\n",
    "N = 500\n",
    "\n",
    "triangle_number = 1\n",
    "delta_triangle = 2\n",
    "num_divisors = 0\n",
    "found = False\n",
    "\n",
    "while num_divisors <= N:\n",
    "    num_divisors = find_num_divisors(triangle_number)    \n",
    "    triangle_number += delta_triangle\n",
    "    delta_triangle += 1\n",
    "\n",
    "print(triangle_number - delta_triangle + 1)"
   ]
  },
  {
   "cell_type": "code",
   "execution_count": null,
   "metadata": {},
   "outputs": [],
   "source": []
  }
 ],
 "metadata": {
  "kernelspec": {
   "display_name": "Python 3",
   "language": "python",
   "name": "python3"
  },
  "language_info": {
   "codemirror_mode": {
    "name": "ipython",
    "version": 3
   },
   "file_extension": ".py",
   "mimetype": "text/x-python",
   "name": "python",
   "nbconvert_exporter": "python",
   "pygments_lexer": "ipython3",
   "version": "3.7.2"
  }
 },
 "nbformat": 4,
 "nbformat_minor": 2
}
