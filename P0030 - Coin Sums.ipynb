{
 "metadata": {
  "language_info": {
   "codemirror_mode": {
    "name": "ipython",
    "version": 3
   },
   "file_extension": ".py",
   "mimetype": "text/x-python",
   "name": "python",
   "nbconvert_exporter": "python",
   "pygments_lexer": "ipython3",
   "version": "3.7.4-final"
  },
  "orig_nbformat": 2,
  "kernelspec": {
   "name": "python3",
   "display_name": "Python 3.7.4 64-bit",
   "metadata": {
    "interpreter": {
     "hash": "c32c7db62676ca097da34099e890a972c5293367a8c712a90913b630688a0fdb"
    }
   }
  }
 },
 "nbformat": 4,
 "nbformat_minor": 2,
 "cells": [
  {
   "source": [
    "# 30. Coin Sums"
   ],
   "cell_type": "markdown",
   "metadata": {}
  },
  {
   "cell_type": "code",
   "execution_count": 11,
   "metadata": {},
   "outputs": [
    {
     "output_type": "execute_result",
     "data": {
      "text/plain": [
       "73682"
      ]
     },
     "metadata": {},
     "execution_count": 11
    }
   ],
   "source": [
    "\n",
    "coin_values = [200, 100, 50, 20, 10, 5, 2, 1]\n",
    "\n",
    "def f(N, total, lci):\n",
    "    if total > N:\n",
    "        return 0\n",
    "    if total == N:\n",
    "        return 1\n",
    "\n",
    "    count = 0\n",
    "    \n",
    "    for ci in range(lci, len(coin_values)):\n",
    "        count += f(N, total + coin_values[ci], ci)\n",
    "\n",
    "    return count\n",
    "\n",
    "f(200, 0, 0)"
   ]
  }
 ]
}