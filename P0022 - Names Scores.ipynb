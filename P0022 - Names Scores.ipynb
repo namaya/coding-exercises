{
 "cells": [
  {
   "cell_type": "code",
   "execution_count": 19,
   "metadata": {},
   "outputs": [
    {
     "data": {
      "text/plain": [
       "870873746"
      ]
     },
     "execution_count": 19,
     "metadata": {},
     "output_type": "execute_result"
    }
   ],
   "source": [
    "def name_score(name):\n",
    "    score = 0\n",
    "    for char in name:\n",
    "        score += ord(char) - ord('A') + 1\n",
    "    return score\n",
    "\n",
    "\n",
    "fd = open('./P0022_names.txt', 'r')\n",
    "\n",
    "names = fd.read().replace('\"', '').split(',')\n",
    "names = sorted(names)\n",
    "\n",
    "scores = 0\n",
    "for i, name in enumerate(names):\n",
    "    scores += i * name_score(name)\n",
    "    \n",
    "scores"
   ]
  }
 ],
 "metadata": {
  "kernelspec": {
   "display_name": "Python 3",
   "language": "python",
   "name": "python3"
  },
  "language_info": {
   "codemirror_mode": {
    "name": "ipython",
    "version": 3
   },
   "file_extension": ".py",
   "mimetype": "text/x-python",
   "name": "python",
   "nbconvert_exporter": "python",
   "pygments_lexer": "ipython3",
   "version": "3.7.2"
  }
 },
 "nbformat": 4,
 "nbformat_minor": 2
}
