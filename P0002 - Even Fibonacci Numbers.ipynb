{
 "cells": [
  {
   "cell_type": "code",
   "execution_count": 2,
   "metadata": {},
   "outputs": [
    {
     "name": "stdout",
     "output_type": "stream",
     "text": [
      "4613732\n"
     ]
    }
   ],
   "source": [
    "N = 4000000\n",
    "\n",
    "prev1 = 1\n",
    "prev2 = 1\n",
    "i = prev1 + prev2\n",
    "\n",
    "sum_ = 0\n",
    "while i < N:\n",
    "    if i % 2 == 0:\n",
    "        sum_ += i\n",
    "    \n",
    "    prev1 = prev2\n",
    "    prev2 = i\n",
    "    i = prev1 + prev2\n",
    "    \n",
    "print(sum_)"
   ]
  }
 ],
 "metadata": {
  "kernelspec": {
   "display_name": "Python 3",
   "language": "python",
   "name": "python3"
  },
  "language_info": {
   "codemirror_mode": {
    "name": "ipython",
    "version": 3
   },
   "file_extension": ".py",
   "mimetype": "text/x-python",
   "name": "python",
   "nbconvert_exporter": "python",
   "pygments_lexer": "ipython3",
   "version": "3.7.2"
  }
 },
 "nbformat": 4,
 "nbformat_minor": 2
}
