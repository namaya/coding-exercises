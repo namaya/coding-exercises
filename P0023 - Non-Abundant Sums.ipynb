{
 "cells": [
  {
   "cell_type": "code",
   "execution_count": 5,
   "metadata": {
    "scrolled": true
   },
   "outputs": [
    {
     "data": {
      "text/plain": [
       "4179871"
      ]
     },
     "execution_count": 5,
     "metadata": {},
     "output_type": "execute_result"
    }
   ],
   "source": [
    "from math import sqrt, ceil\n",
    "\n",
    "def d(n, memo):\n",
    "    if memo[n] == 0:\n",
    "        memo[n] = sum(proper_divisors(n))\n",
    "    \n",
    "    return memo[n]\n",
    "\n",
    "def proper_divisors(n):\n",
    "    divisors = set([1])\n",
    "    for i in range(2, ceil(sqrt(n))+1):\n",
    "        if n % i == 0:\n",
    "            divisors.add(i)\n",
    "            divisors.add(n // i)\n",
    "    return divisors\n",
    "\n",
    "N = 28123\n",
    "\n",
    "memo = [0 for _ in range(1, N+1)]\n",
    "abundant_numbers = set()\n",
    "\n",
    "for n in range(12, N):\n",
    "    if d(n, memo) > n:\n",
    "        abundant_numbers.add(n)\n",
    "\n",
    "sum_ = 0\n",
    "for n in range(1, N+1):\n",
    "    isSumOfAbundantNums = False\n",
    "    for a in abundant_numbers:\n",
    "        if n-a in abundant_numbers:\n",
    "            isSumOfAbundantNums = True\n",
    "            break\n",
    "    if not isSumOfAbundantNums:\n",
    "        sum_ += n\n",
    "\n",
    "sum_"
   ]
  },
  {
   "cell_type": "code",
   "execution_count": null,
   "metadata": {},
   "outputs": [],
   "source": []
  }
 ],
 "metadata": {
  "kernelspec": {
   "display_name": "Python 3",
   "language": "python",
   "name": "python3"
  },
  "language_info": {
   "codemirror_mode": {
    "name": "ipython",
    "version": 3
   },
   "file_extension": ".py",
   "mimetype": "text/x-python",
   "name": "python",
   "nbconvert_exporter": "python",
   "pygments_lexer": "ipython3",
   "version": "3.7.2"
  }
 },
 "nbformat": 4,
 "nbformat_minor": 2
}
