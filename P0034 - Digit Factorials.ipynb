{
 "metadata": {
  "language_info": {
   "codemirror_mode": {
    "name": "ipython",
    "version": 3
   },
   "file_extension": ".py",
   "mimetype": "text/x-python",
   "name": "python",
   "nbconvert_exporter": "python",
   "pygments_lexer": "ipython3",
   "version": "3.7.4"
  },
  "orig_nbformat": 2,
  "kernelspec": {
   "name": "python3",
   "display_name": "Python 3.7.4 64-bit ('jupyter': conda)",
   "metadata": {
    "interpreter": {
     "hash": "c32c7db62676ca097da34099e890a972c5293367a8c712a90913b630688a0fdb"
    }
   }
  }
 },
 "nbformat": 4,
 "nbformat_minor": 2,
 "cells": [
  {
   "source": [
    "# 34. Digit Factorials"
   ],
   "cell_type": "markdown",
   "metadata": {}
  },
  {
   "cell_type": "code",
   "execution_count": 47,
   "metadata": {},
   "outputs": [
    {
     "output_type": "stream",
     "name": "stdout",
     "text": [
      "Found 145\n",
      "Found 40585\n",
      "Answer:  40730\n"
     ]
    }
   ],
   "source": [
    "def digit_factorials(N):\n",
    "    sum_ = 0\n",
    "    \n",
    "    for n in range(3, N):\n",
    "        if n == sof(n):\n",
    "            print(f\"Found {n}\")\n",
    "            sum_ += n\n",
    "    \n",
    "    return sum_\n",
    "\n",
    "def sof(n):\n",
    "    sum_ = 0\n",
    "    for digit in str(n):\n",
    "        sum_ += factorial(int(digit))\n",
    "    return sum_\n",
    "\n",
    "def factorial(n):\n",
    "    fct = 1\n",
    "    for i in range(1, n+1):\n",
    "        fct *= i\n",
    "    return fct\n",
    "\n",
    "print(\"Answer: \", digit_factorials(10000000))"
   ]
  },
  {
   "cell_type": "code",
   "execution_count": null,
   "metadata": {},
   "outputs": [],
   "source": []
  }
 ]
}