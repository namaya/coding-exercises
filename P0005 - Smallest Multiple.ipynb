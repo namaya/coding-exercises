{
 "cells": [
  {
   "cell_type": "code",
   "execution_count": 2,
   "metadata": {},
   "outputs": [
    {
     "name": "stdout",
     "output_type": "stream",
     "text": [
      "232792560\n"
     ]
    }
   ],
   "source": [
    "def is_divisible(n, max_num):\n",
    "    for i in range(2, max_num+1):\n",
    "        if n % i != 0:\n",
    "            return False  \n",
    "    return True\n",
    "\n",
    "max_num = 20\n",
    "i = max_num\n",
    "\n",
    "found = False\n",
    "while not found:\n",
    "    if is_divisible(i, max_num):\n",
    "        smallest_multiple = i\n",
    "        found = True\n",
    "    i += max_num\n",
    "    \n",
    "print(smallest_multiple)\n",
    "\n",
    "# Ran a little slow, may want to optimize\n",
    "# Optimization Idea: don't need to check divisiblity of factors of max_num"
   ]
  }
 ],
 "metadata": {
  "kernelspec": {
   "display_name": "Python 3",
   "language": "python",
   "name": "python3"
  },
  "language_info": {
   "codemirror_mode": {
    "name": "ipython",
    "version": 3
   },
   "file_extension": ".py",
   "mimetype": "text/x-python",
   "name": "python",
   "nbconvert_exporter": "python",
   "pygments_lexer": "ipython3",
   "version": "3.7.2"
  }
 },
 "nbformat": 4,
 "nbformat_minor": 2
}
