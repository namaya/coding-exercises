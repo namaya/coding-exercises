{
 "cells": [
  {
   "cell_type": "code",
   "execution_count": 7,
   "metadata": {},
   "outputs": [
    {
     "data": {
      "text/plain": [
       "31626"
      ]
     },
     "execution_count": 7,
     "metadata": {},
     "output_type": "execute_result"
    }
   ],
   "source": [
    "from math import sqrt, ceil\n",
    "\n",
    "def d(n, memo):\n",
    "    if memo[n] == 0:\n",
    "        memo[n] = sum(proper_divisors(n))\n",
    "    \n",
    "    return memo[n]\n",
    "\n",
    "def proper_divisors(n):\n",
    "    divisors = [1]\n",
    "    for i in range(2, ceil(sqrt(n))):\n",
    "        if n % i == 0:\n",
    "            divisors.append(i)\n",
    "            divisors.append(n // i)\n",
    "    return divisors\n",
    "\n",
    "N = 10000\n",
    "\n",
    "ammicable_numbers = set()\n",
    "memo = [0 for _ in range(N)]\n",
    "\n",
    "for a in range(2, N):\n",
    "    for b in range(a+1, N):\n",
    "        if d(a, memo) == b and d(b, memo) == a:\n",
    "            ammicable_numbers.add(a)\n",
    "            ammicable_numbers.add(b)\n",
    "\n",
    "sum(ammicable_numbers)"
   ]
  }
 ],
 "metadata": {
  "kernelspec": {
   "display_name": "Python 3",
   "language": "python",
   "name": "python3"
  },
  "language_info": {
   "codemirror_mode": {
    "name": "ipython",
    "version": 3
   },
   "file_extension": ".py",
   "mimetype": "text/x-python",
   "name": "python",
   "nbconvert_exporter": "python",
   "pygments_lexer": "ipython3",
   "version": "3.7.2"
  }
 },
 "nbformat": 4,
 "nbformat_minor": 2
}
