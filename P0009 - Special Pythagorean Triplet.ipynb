{
 "cells": [
  {
   "cell_type": "code",
   "execution_count": 3,
   "metadata": {},
   "outputs": [
    {
     "name": "stdout",
     "output_type": "stream",
     "text": [
      "31875000\n"
     ]
    }
   ],
   "source": [
    "N = 1000\n",
    "\n",
    "a = 1\n",
    "found = False\n",
    "product = 0\n",
    "\n",
    "while not found:\n",
    "    for b in range(a+1, N):\n",
    "        c = (a**2 + b**2)**(1/2)\n",
    "        if a + b + c == N:\n",
    "            product = int(a*b*c)\n",
    "            found = True\n",
    "    \n",
    "    a += 1\n",
    "\n",
    "print(product)"
   ]
  }
 ],
 "metadata": {
  "kernelspec": {
   "display_name": "Python 3",
   "language": "python",
   "name": "python3"
  },
  "language_info": {
   "codemirror_mode": {
    "name": "ipython",
    "version": 3
   },
   "file_extension": ".py",
   "mimetype": "text/x-python",
   "name": "python",
   "nbconvert_exporter": "python",
   "pygments_lexer": "ipython3",
   "version": "3.7.2"
  }
 },
 "nbformat": 4,
 "nbformat_minor": 2
}
