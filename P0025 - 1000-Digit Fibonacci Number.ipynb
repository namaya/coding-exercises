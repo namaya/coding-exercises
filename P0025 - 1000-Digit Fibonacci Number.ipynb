{
 "cells": [
  {
   "cell_type": "code",
   "execution_count": 3,
   "metadata": {},
   "outputs": [
    {
     "name": "stdout",
     "output_type": "stream",
     "text": [
      "4782\n"
     ]
    }
   ],
   "source": [
    "def isNdigits(n, N):\n",
    "    return (len(str(n)) == N)\n",
    "\n",
    "N = 1000\n",
    "\n",
    "prev1 = 0\n",
    "prev2 = 1\n",
    "cur = prev1 + prev2\n",
    "index = 2\n",
    "\n",
    "found = False\n",
    "while not found:\n",
    "    prev1 = prev2\n",
    "    prev2 = cur\n",
    "    cur = prev1 + prev2\n",
    "    index += 1\n",
    "    \n",
    "    if isNdigits(cur, N):\n",
    "        found = True\n",
    "    \n",
    "print(index)"
   ]
  }
 ],
 "metadata": {
  "kernelspec": {
   "display_name": "Python 3",
   "language": "python",
   "name": "python3"
  },
  "language_info": {
   "codemirror_mode": {
    "name": "ipython",
    "version": 3
   },
   "file_extension": ".py",
   "mimetype": "text/x-python",
   "name": "python",
   "nbconvert_exporter": "python",
   "pygments_lexer": "ipython3",
   "version": "3.7.2"
  }
 },
 "nbformat": 4,
 "nbformat_minor": 2
}
